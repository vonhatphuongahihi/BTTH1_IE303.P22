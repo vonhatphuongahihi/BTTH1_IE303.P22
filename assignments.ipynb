{
 "cells": [
  {
   "cell_type": "markdown",
   "metadata": {},
   "source": [
    "### Bài 1 (4 điểm):\n",
    "\n",
    "Chỉ sử dụng bán kính $r$, không được sử dụng bất kỳ hằng số nào khác, hãy xấp xỉ diện tích của hình tròn tâm $O(0 ,0)$ bán kính $r$."
   ]
  },
  {
   "cell_type": "markdown",
   "metadata": {},
   "source": [
    "### Bài 2 (2 điểm):\n",
    "\n",
    "Xấp xỉ giá trị của $\\pi$ thông qua đường tròn đơn vị (tâm $O(0, 0)$ bán kính $r=1$)."
   ]
  },
  {
   "attachments": {
    "image.png": {
     "image/png": "[encoded data removed]"
    }
   },
   "cell_type": "markdown",
   "metadata": {},
   "source": [
    "### Bài 3 (3 điểm):\n",
    "\n",
    "![image.png](attachment:image.png)\n",
    "\n",
    "Tại một khu bảo tồn, người ta tìm cách xây dựng nên các trạm phát sóng vô tuyến để theo dõi vị trí của các con vật được thả trong một khu bảo tồn được mô tả trong hình trên.\n",
    "\n",
    "Người ta đã lắp đặt các trạm phát sóng vô tuyến để tiến hành thu tín hiệu vị trí của động vật được thả trong khu bảo tồn. Trong số các trạm phát này, sẽ có một số trạm nhất định đóng vai trò làm trạm gửi tín hiệu khẩn cấp về trung tâm (trạm cảnh báo) khi có một con thú rời khỏi phạm vi của khu bảo tồn. Con vật được xem là rời khỏi khu vực bảo tồn khi nó di chuyển ra khỏi tầm phủ sóng của tất cả các trạm vô tuyến.\n",
    "\n",
    "Hãy xây dựng thuật toán xác định các trạm cảnh báo từ các trạm phát sóng vô tuyến đã được xây dựng sẵn.\n",
    "\n",
    "**Input:**\n",
    "- Số lượng trạm cảnh báo và toạ độ tương ứng cho từng trạm.\n",
    "\n",
    "**Output:**\n",
    "- Toạ độ của các trạm được sử dụng làm trạm cảnh báo.\n",
    "\n",
    "Ví dụ:\n",
    "| Input                                                               | Output                                          |\n",
    "|---------------------------------------------------------------------|-------------------------------------------------|\n",
    "| 6<br><br>2 1<br><br>1 3<br><br>2 3<br><br>2 4<br><br>4 1<br><br>4 3 | 1 3<br><br>2 4<br><br>4 3<br><br>4 1<br><br>2 1 |\n",
    "\n"
   ]
  },
  {
   "cell_type": "markdown",
   "metadata": {},
   "source": [
    "### Bài 4 (1 điểm):\n",
    "\n",
    "Xây dựng mô hình thống kê Bayes tạo sinh một dòng văn bản tiếng Việt tối đa 5 từ. Giả định sự xuất hiện của từ thứ $t$ chỉ phụ thuộc vào từ liền trước $t-1$ (tính chất phân phối Markov). Sử dụng bộ dữ liệu UIT-ViOCD để xây dựng mô hình thống kê Bayes.\n",
    "\n",
    "**Input:**\n",
    "- Một từ bất kỳ trong bộ dữ liệu UIT-ViOCD.\n",
    "\n",
    "**Output:**\n",
    "- Một dòng văn bản gồm tối đa 5 từ tiếp theo dựa trên từ gợi ý đầu tiên.\n",
    "\n",
    "Gợi ý:\n",
    "\n",
    "Định lý Bayes trong lý thuyết xác suất được viết thành dạng\n",
    "$$\n",
    "    P(x | y) = \\frac{P(y | x)P(x)}{P(y)}\n",
    "$$\n",
    "\n",
    "Như vậy để sinh ra một dòng văn bản có tối đa 5 từ, ta cần xác định:\n",
    "\\begin{align}\n",
    "    P(x_1, x_2, x_3, x_4, x_5)  & = P(x_1)P(x_2 | x_1)P(x_3|x_1, x_2)P(x_4|x_1, x_2, x_3)P(x_5|x_1, x_2, x_3, x_4) \\\\\n",
    "                                & = P(x_1)P(x_2 | x_1)P(x_3|x_2)P(x_4|x_3)P(x_5|x_4) \\\\\n",
    "                                & = P(x_1)\\prod_{i=2}^5 P(x_i | x_{i-1})\n",
    "\\end{align}\n",
    "\n",
    "Để xây dựng mô hình thống kê Bayes:\n",
    "- Bước 1: Xác định tập hợp $V$ tất cả các từ trong trong bộ dữ liệu (lưu ý loại bỏ các từ có số lần xuất hiện dưới 5).\n",
    "- Bước 2: Với mỗi từ $w \\in V$, xác định $P(w) \\approx \\frac{\\# w}{\\sum_{w \\in V} \\#w}$.\n",
    "- Bước 3: Với mỗi cặp từ bất kỳ $w_1, w_2 \\in V$, xác định $P(w_1, w_2) \\approx \\frac{\\# (w_1, w_2)}{\\sum_{w_1, w_2 \\in V} \\# (w_1, w_2)}$.\n",
    "- Bước 4: Từ các xác suất đồng thời $P(w_i, w_j)$ $\\forall w_i, w_j \\in V$, xác định $P(w_i | w_j) \\approx \\frac{P(w_i, w_j)}{P(w_j)}$.\n",
    "- Bước 5: Giả sử quá trình tạo ra được dãy các từ $w_1, w_2, ..., w_t$, trong tất cả các từ $w \\in V$, từ $w$ nào cho $P(w_1, w_2, ..., w_t, w)$ cao nhất thì kết nạp từ $w$ đó thành $w_{t+1}$."
   ]
  },
  {
   "cell_type": "markdown",
   "metadata": {},
   "source": []
  }
 ],
 "metadata": {
  "language_info": {
   "name": "python"
  }
 },
 "nbformat": 4,
 "nbformat_minor": 2
}
